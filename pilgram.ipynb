{
  "nbformat": 4,
  "nbformat_minor": 0,
  "metadata": {
    "colab": {
      "provenance": [],
      "include_colab_link": true
    },
    "kernelspec": {
      "name": "python3",
      "display_name": "Python 3"
    }
  },
  "cells": [
    {
      "cell_type": "markdown",
      "metadata": {
        "id": "view-in-github",
        "colab_type": "text"
      },
      "source": [
        "<a href=\"https://colab.research.google.com/github/ruang-belajar/python/blob/master/pilgram.ipynb\" target=\"_parent\"><img src=\"https://colab.research.google.com/assets/colab-badge.svg\" alt=\"Open In Colab\"/></a>"
      ]
    },
    {
      "metadata": {
        "id": "GSSKJOqJDgn4"
      },
      "cell_type": "markdown",
      "source": [
        "# pilgram example\n",
        "\n",
        "Referensi:\n",
        "- https://github.com/akiomik/pilgram"
      ]
    },
    {
      "metadata": {
        "id": "OJ55HJZFDrYX"
      },
      "cell_type": "markdown",
      "source": [
        "## setup"
      ]
    },
    {
      "metadata": {
        "id": "8F8BKZDz-7_g"
      },
      "cell_type": "code",
      "source": [
        "!pip install pillow pilgram\n",
        "!wget \"https://github.com/akiomik/pilgram/blob/main/notebooks/mtjimba.jpg?raw=true\" -O mtjimba.jpg"
      ],
      "execution_count": null,
      "outputs": []
    },
    {
      "metadata": {
        "id": "kR90nW_KDtjz"
      },
      "cell_type": "markdown",
      "source": [
        "## original image"
      ]
    },
    {
      "metadata": {
        "id": "yi-Fb5XI_BAH"
      },
      "cell_type": "code",
      "source": [
        "import cv2\n",
        "import numpy as np\n",
        "from google.colab.patches import cv2_imshow\n",
        "\n",
        "im = cv2.imread('mtjimba.jpg')\n",
        "display(im)"
      ],
      "execution_count": null,
      "outputs": []
    },
    {
      "metadata": {
        "id": "y9uoQWlZDxi6"
      },
      "cell_type": "markdown",
      "source": [
        "## image with filter"
      ]
    },
    {
      "metadata": {
        "id": "Py7iLrxwBQ8B"
      },
      "cell_type": "code",
      "source": [
        "\n",
        "from PIL import Image\n",
        "import pilgram\n",
        "\n",
        "im = Image.open('mtjimba.jpg')\n",
        "pilgram._1977(im).save('mtjimba-1977.jpg')\n",
        "\n",
        "display.display_jpeg(display.Image('mtjimba-1977.jpg'))"
      ],
      "execution_count": null,
      "outputs": []
    },
    {
      "cell_type": "markdown",
      "source": [
        "# Menjalankan script lewat command line\n",
        "\n",
        "1. Install `opencv`\n",
        "    ```\n",
        "    pip install opencv-python\n",
        "    ```\n",
        "\n",
        "2. Buat file `pilgram1.py`:\n",
        "    ```\n",
        "    import cv2\n",
        "\n",
        "    im = cv2.imread('mtjimba.jpg')\n",
        "    cv2.imshow(\"Display Windod\", im)\n",
        "    k = cv2.waitKey(0)\n",
        "    ```"
      ],
      "metadata": {
        "id": "GNBGhQCB01r2"
      }
    }
  ]
}