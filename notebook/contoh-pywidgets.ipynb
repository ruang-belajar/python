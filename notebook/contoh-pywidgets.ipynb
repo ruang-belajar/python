{
 "cells": [
  {
   "cell_type": "markdown",
   "id": "54636507-3aa4-4cf8-967e-7fb799dc2a38",
   "metadata": {},
   "source": [
    "# Contoh penggunaan pywidgets"
   ]
  },
  {
   "cell_type": "markdown",
   "id": "5ad7b2d3-25c7-4871-bd37-398b8a64cec9",
   "metadata": {},
   "source": [
    "## Inisialisasi"
   ]
  },
  {
   "cell_type": "code",
   "execution_count": 175,
   "id": "b3c7b3e1-1086-42db-a5c9-67fd3ef877c2",
   "metadata": {},
   "outputs": [],
   "source": [
    "from IPython.display import clear_output\n",
    "import ipywidgets as widgets"
   ]
  },
  {
   "cell_type": "markdown",
   "id": "ed7097a3-8260-4c22-bfc7-5888d30981cd",
   "metadata": {},
   "source": [
    "## Contoh"
   ]
  },
  {
   "cell_type": "code",
   "execution_count": 207,
   "id": "67c68d85-94bc-4f55-a0c4-13df139c01df",
   "metadata": {},
   "outputs": [
    {
     "data": {
      "application/vnd.jupyter.widget-view+json": {
       "model_id": "ddb8074175ce4093822b6f67ab3501d0",
       "version_major": 2,
       "version_minor": 0
      },
      "text/plain": [
       "HBox(children=(Button(description='test', style=ButtonStyle()), Label(value='...')))"
      ]
     },
     "metadata": {},
     "output_type": "display_data"
    }
   ],
   "source": [
    "def testing(obj):\n",
    "    text.value=\"percobaan\"\n",
    "\n",
    "button1 = widgets.Button(description = \"test\")\n",
    "button1.on_click(testing)\n",
    "\n",
    "text = widgets.Label(value=\"...\")\n",
    "\n",
    "output = widgets.Output()\n",
    "widgets.HBox([button1, text])"
   ]
  },
  {
   "cell_type": "code",
   "execution_count": 206,
   "id": "a72282fb-e09d-428d-9a2f-4216bc843b9c",
   "metadata": {},
   "outputs": [
    {
     "data": {
      "application/vnd.jupyter.widget-view+json": {
       "model_id": "c58353adc7fe4b4989a41221b38bbbbd",
       "version_major": 2,
       "version_minor": 0
      },
      "text/plain": [
       "VBox(children=(HBox(children=(Text(value='', placeholder='input nama'), Button(description='test', style=Butto…"
      ]
     },
     "metadata": {},
     "output_type": "display_data"
    }
   ],
   "source": [
    "def testing(obj):\n",
    "    text.value = \"INPUT: \"+inputbox1.value\n",
    "\n",
    "button1 = widgets.Button(description = \"test\")\n",
    "inputbox1 = widgets.Text(placeholder='input nama')\n",
    "button1.on_click(testing)\n",
    "\n",
    "text = widgets.Label(value=\"...\")\n",
    "\n",
    "output = widgets.Output()\n",
    "widgets.VBox([\n",
    "    widgets.HBox([inputbox1, button1]),\n",
    "    text\n",
    "])\n",
    "\n"
   ]
  }
 ],
 "metadata": {
  "kernelspec": {
   "display_name": "Python 3 (ipykernel)",
   "language": "python",
   "name": "python3"
  },
  "language_info": {
   "codemirror_mode": {
    "name": "ipython",
    "version": 3
   },
   "file_extension": ".py",
   "mimetype": "text/x-python",
   "name": "python",
   "nbconvert_exporter": "python",
   "pygments_lexer": "ipython3",
   "version": "3.7.11"
  }
 },
 "nbformat": 4,
 "nbformat_minor": 5
}
