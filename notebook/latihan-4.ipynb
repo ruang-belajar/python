{
  "nbformat": 4,
  "nbformat_minor": 0,
  "metadata": {
    "colab": {
      "provenance": [],
      "authorship_tag": "ABX9TyPG8lZvlW8XH4mvNM9oAG89",
      "include_colab_link": true
    },
    "kernelspec": {
      "name": "python3",
      "display_name": "Python 3"
    },
    "language_info": {
      "name": "python"
    }
  },
  "cells": [
    {
      "cell_type": "markdown",
      "metadata": {
        "id": "view-in-github",
        "colab_type": "text"
      },
      "source": [
        "<a href=\"https://colab.research.google.com/github/ruang-belajar/python/blob/master/notebook/latihan-4.ipynb\" target=\"_parent\"><img src=\"https://colab.research.google.com/assets/colab-badge.svg\" alt=\"Open In Colab\"/></a>"
      ]
    },
    {
      "cell_type": "markdown",
      "source": [
        "# Latihan 4\n"
      ],
      "metadata": {
        "id": "sNgPhxYkujEt"
      }
    },
    {
      "cell_type": "markdown",
      "source": [
        "## GROUPBY\n",
        "\n",
        "Berikut ini adalah data data penduduk Jakarta per kelurahan yang dibagi per jenis kelamin dan pekerjaan.\n",
        "Kerjakan soal-soal di bawah dengan mengunakan data ini.\n",
        "\n",
        "Gunakan notebook [02-intro-pandas.ipynb](https://github.com/ruang-belajar/python/blob/master/notebook/02-intro-pandas.ipynb) sebagai referensi"
      ],
      "metadata": {
        "id": "qzfkLOMATIPL"
      }
    },
    {
      "cell_type": "code",
      "execution_count": null,
      "metadata": {
        "id": "Z1BRAxDguhgw"
      },
      "outputs": [],
      "source": [
        "# PERSIAPAN DATA\n",
        "\n",
        "# download file contoh csv\n",
        "!wget https://data.jakarta.go.id/dataset/b0eb219e26e8e1fe7c521d8b78f9c89f/resource/e9a6fef809483b5cdd6ff545ee694494/download/Data-Jumlah-Kepala-Keluarga-Menurut-Pekerjaan-Jenis-Kelamin-dan-Wilayah-Tahun-2020.csv -O 2022-jakarta-kk.csv\n",
        "\n",
        "# import modul pandas\n",
        "import pandas as pd\n"
      ]
    },
    {
      "cell_type": "code",
      "source": [
        "# load data ke dataframe (df)\n",
        "df = pd.read_csv(\"2022-jakarta-kk.csv\")\n",
        "df\n"
      ],
      "metadata": {
        "id": "JYnUyM8YI59U"
      },
      "execution_count": null,
      "outputs": []
    },
    {
      "cell_type": "code",
      "source": [
        "df[df.kecamatan!='CIPAYUNG']"
      ],
      "metadata": {
        "id": "9qJnrRebMMmG"
      },
      "execution_count": null,
      "outputs": []
    },
    {
      "cell_type": "markdown",
      "source": [
        "1. Filter dan tampilkan data penduduk kecamatan Cipayung\n"
      ],
      "metadata": {
        "id": "nkuGLmnyH5tI"
      }
    },
    {
      "cell_type": "code",
      "source": [
        "# tambahkan kode di sini\n"
      ],
      "metadata": {
        "id": "wSSBZS_1H4xQ"
      },
      "execution_count": null,
      "outputs": []
    },
    {
      "cell_type": "markdown",
      "source": [
        "2. Filter dan tampilkan data penduduk kecamatan Rambutan dan Ciracas."
      ],
      "metadata": {
        "id": "9e8p-RZWLsjy"
      }
    },
    {
      "cell_type": "code",
      "source": [
        "# tambahkan kode di sini\n"
      ],
      "metadata": {
        "id": "OefIBnAALrlF"
      },
      "execution_count": null,
      "outputs": []
    },
    {
      "cell_type": "markdown",
      "source": [
        "3. Menggunakan *groupby*, tampilkan jumlah penduduk per kabupaten"
      ],
      "metadata": {
        "id": "hgQVnO89MgNc"
      }
    },
    {
      "cell_type": "code",
      "source": [
        "# tambahkan kode di sini\n"
      ],
      "metadata": {
        "id": "LtzxFCgOMgyW"
      },
      "execution_count": null,
      "outputs": []
    },
    {
      "cell_type": "markdown",
      "source": [
        "4. Menggunakan *groupby*, tampilkan jumlah Laki-laki per kabupaten"
      ],
      "metadata": {
        "id": "URKZrGAgMxMN"
      }
    },
    {
      "cell_type": "code",
      "source": [
        "# tambahkan kode di sini\n"
      ],
      "metadata": {
        "id": "H2H12vVVMw0c"
      },
      "execution_count": null,
      "outputs": []
    },
    {
      "cell_type": "markdown",
      "source": [
        "## JOIN OPERATION\n",
        "\n",
        "Pelajari mengenai proses _OUTER JOIN_ dari [05-pandas-series-join.ipynb](https://github.com/ruang-belajar/python/blob/master/notebook/05-pandas-series-join.ipynb). Coba kerjakan soal-soal berikut:"
      ],
      "metadata": {
        "id": "jaI-zoypM_zE"
      }
    },
    {
      "cell_type": "markdown",
      "source": [
        "5. Menggunakan *groupby*, hitung jumlah penduduk laki-laki per pekerjaan"
      ],
      "metadata": {
        "id": "XEJLNl3ySFQg"
      }
    },
    {
      "cell_type": "code",
      "source": [
        "# tambahkan kode di sini\n"
      ],
      "metadata": {
        "id": "g8X0bP7xSych"
      },
      "execution_count": null,
      "outputs": []
    },
    {
      "cell_type": "markdown",
      "source": [
        "6. Menggunakan *groupby*, hitung jumlah penduduk laki-laki per pekerjaan"
      ],
      "metadata": {
        "id": "ywbdS9FmSy8f"
      }
    },
    {
      "cell_type": "code",
      "source": [
        "# tambahkan kode di sini\n"
      ],
      "metadata": {
        "id": "k5dG3zdSS1M6"
      },
      "execution_count": null,
      "outputs": []
    },
    {
      "cell_type": "markdown",
      "source": [
        "7. menggunakan *OUTER JOIN*, gabungkan hasil dari perhitungan *soal 5* dan *soal 6*"
      ],
      "metadata": {
        "id": "aEgvn9xTS0u1"
      }
    },
    {
      "cell_type": "code",
      "source": [],
      "metadata": {
        "id": "iGwwJ2bDULAH"
      },
      "execution_count": null,
      "outputs": []
    }
  ]
}